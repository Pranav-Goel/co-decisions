{
 "cells": [
  {
   "cell_type": "markdown",
   "id": "fa7e09d9-7ca8-473f-b209-0f67a9b3f2f1",
   "metadata": {},
   "source": [
    "## Example of creating the required pairwise data (y and Xs) file using individual actor-level data for running a mixed effects model that provides effect sizes for each feature quantifying a pair of actors with respect to the rate of agreement for decisions made by pair of actors.\n",
    "\n",
    "### Note that the main code used here is provided in create_pairwise_data_file.py; the resulting files from this tutorial can be created by running `python create_pairwise_data_file.py --data data/example/ --output data/example/output/` - that creates and saves the pairwise data file (data/example/output/pairwise_data.csv); results of the mixed effects model can be obtained by running `Rscript mixed_effects_model.R data/example/decisions.csv data/example/output/pairwise_data.csv data/example/output/results.txt`"
   ]
  },
  {
   "cell_type": "code",
   "execution_count": 1,
   "id": "b0754c7a-bace-4fab-ac97-c896b49dfc1c",
   "metadata": {},
   "outputs": [],
   "source": [
    "import pandas as pd\n",
    "import numpy as np\n",
    "from pathlib import Path\n",
    "from utils import *\n",
    "from create_pairwise_data_file import *"
   ]
  },
  {
   "cell_type": "markdown",
   "id": "e392dfe7-1fbd-4f23-8204-1fcaba8c4c46",
   "metadata": {},
   "source": [
    "### Required data directory structure: each data directory must have one CSV file named **decisions.csv**, and one subdirectory named **features/**. Note that none of the csv files are expected to have any headers/column names - please create files without column names and in the format described below (data/example/ provides examples of file formats that can be used). \n",
    "\n",
    "**decisions.csv**: This contains the categorical *decisions* made by every *actor* on each of multiple *items* - the rows corresponding to each individual actor, the first column contains IDs of each actor, and the subsequent columns all contain the integer value of all the decisions made. \n",
    "\n",
    "**features/**: Contains multiple CSV files where each CSV file corresponds to a particular feature and its values for each actor. Features can be of two types: *scalar* (one value quantifiying each actor) and *vector* (a vector of more than one values quantifying each actor). NOTE: Name each of these feature files appropriately, since they will be used to interpret the results (the name of the file is used as the feature name). "
   ]
  },
  {
   "cell_type": "code",
   "execution_count": 2,
   "id": "44249952-a7c7-46e8-95f8-c3c561395481",
   "metadata": {},
   "outputs": [],
   "source": [
    "data_base_path = 'data/example/' #path to the data directory - formatted as described above. "
   ]
  },
  {
   "cell_type": "markdown",
   "id": "ae01c103-cb06-457e-8455-c631a965c550",
   "metadata": {},
   "source": [
    "### Loading actor-level decisions data file below: in our example data, the _actors_ are US House members (109th Congress) or legislators, _decisions_ are votes on congressional bills (_items_) (only a few keyvotes are considered for every legislator in this data)."
   ]
  },
  {
   "cell_type": "code",
   "execution_count": 3,
   "id": "237a5c16-0e2e-4d1c-9b63-d20a42d4e2d2",
   "metadata": {},
   "outputs": [
    {
     "name": "stdout",
     "output_type": "stream",
     "text": [
      "<class 'pandas.core.frame.DataFrame'>\n",
      "RangeIndex: 433 entries, 0 to 432\n",
      "Data columns (total 30 columns):\n",
      " #   Column  Non-Null Count  Dtype\n",
      "---  ------  --------------  -----\n",
      " 0   0       433 non-null    int64\n",
      " 1   1       433 non-null    int64\n",
      " 2   2       433 non-null    int64\n",
      " 3   3       433 non-null    int64\n",
      " 4   4       433 non-null    int64\n",
      " 5   5       433 non-null    int64\n",
      " 6   6       433 non-null    int64\n",
      " 7   7       433 non-null    int64\n",
      " 8   8       433 non-null    int64\n",
      " 9   9       433 non-null    int64\n",
      " 10  10      433 non-null    int64\n",
      " 11  11      433 non-null    int64\n",
      " 12  12      433 non-null    int64\n",
      " 13  13      433 non-null    int64\n",
      " 14  14      433 non-null    int64\n",
      " 15  15      433 non-null    int64\n",
      " 16  16      433 non-null    int64\n",
      " 17  17      433 non-null    int64\n",
      " 18  18      433 non-null    int64\n",
      " 19  19      433 non-null    int64\n",
      " 20  20      433 non-null    int64\n",
      " 21  21      433 non-null    int64\n",
      " 22  22      433 non-null    int64\n",
      " 23  23      433 non-null    int64\n",
      " 24  24      433 non-null    int64\n",
      " 25  25      433 non-null    int64\n",
      " 26  26      433 non-null    int64\n",
      " 27  27      433 non-null    int64\n",
      " 28  28      433 non-null    int64\n",
      " 29  29      433 non-null    int64\n",
      "dtypes: int64(30)\n",
      "memory usage: 101.6 KB\n",
      "None\n"
     ]
    }
   ],
   "source": [
    "decisions_df = pd.read_csv(Path(data_base_path) / 'decisions.csv', header = None)\n",
    "print(decisions_df.info())"
   ]
  },
  {
   "cell_type": "code",
   "execution_count": 4,
   "id": "6e092b9e-15be-411d-a9dd-0e21754b9993",
   "metadata": {},
   "outputs": [
    {
     "data": {
      "text/html": [
       "<div>\n",
       "<style scoped>\n",
       "    .dataframe tbody tr th:only-of-type {\n",
       "        vertical-align: middle;\n",
       "    }\n",
       "\n",
       "    .dataframe tbody tr th {\n",
       "        vertical-align: top;\n",
       "    }\n",
       "\n",
       "    .dataframe thead th {\n",
       "        text-align: right;\n",
       "    }\n",
       "</style>\n",
       "<table border=\"1\" class=\"dataframe\">\n",
       "  <thead>\n",
       "    <tr style=\"text-align: right;\">\n",
       "      <th></th>\n",
       "      <th>0</th>\n",
       "      <th>1</th>\n",
       "      <th>2</th>\n",
       "      <th>3</th>\n",
       "      <th>4</th>\n",
       "      <th>5</th>\n",
       "      <th>6</th>\n",
       "      <th>7</th>\n",
       "      <th>8</th>\n",
       "      <th>9</th>\n",
       "      <th>...</th>\n",
       "      <th>20</th>\n",
       "      <th>21</th>\n",
       "      <th>22</th>\n",
       "      <th>23</th>\n",
       "      <th>24</th>\n",
       "      <th>25</th>\n",
       "      <th>26</th>\n",
       "      <th>27</th>\n",
       "      <th>28</th>\n",
       "      <th>29</th>\n",
       "    </tr>\n",
       "  </thead>\n",
       "  <tbody>\n",
       "    <tr>\n",
       "      <th>0</th>\n",
       "      <td>9789</td>\n",
       "      <td>0</td>\n",
       "      <td>1</td>\n",
       "      <td>0</td>\n",
       "      <td>0</td>\n",
       "      <td>0</td>\n",
       "      <td>1</td>\n",
       "      <td>0</td>\n",
       "      <td>1</td>\n",
       "      <td>1</td>\n",
       "      <td>...</td>\n",
       "      <td>0</td>\n",
       "      <td>0</td>\n",
       "      <td>1</td>\n",
       "      <td>0</td>\n",
       "      <td>1</td>\n",
       "      <td>1</td>\n",
       "      <td>0</td>\n",
       "      <td>0</td>\n",
       "      <td>0</td>\n",
       "      <td>0</td>\n",
       "    </tr>\n",
       "    <tr>\n",
       "      <th>1</th>\n",
       "      <td>9790</td>\n",
       "      <td>0</td>\n",
       "      <td>1</td>\n",
       "      <td>0</td>\n",
       "      <td>0</td>\n",
       "      <td>0</td>\n",
       "      <td>1</td>\n",
       "      <td>0</td>\n",
       "      <td>1</td>\n",
       "      <td>1</td>\n",
       "      <td>...</td>\n",
       "      <td>0</td>\n",
       "      <td>0</td>\n",
       "      <td>1</td>\n",
       "      <td>0</td>\n",
       "      <td>1</td>\n",
       "      <td>0</td>\n",
       "      <td>0</td>\n",
       "      <td>0</td>\n",
       "      <td>0</td>\n",
       "      <td>0</td>\n",
       "    </tr>\n",
       "    <tr>\n",
       "      <th>2</th>\n",
       "      <td>9738</td>\n",
       "      <td>1</td>\n",
       "      <td>1</td>\n",
       "      <td>0</td>\n",
       "      <td>0</td>\n",
       "      <td>0</td>\n",
       "      <td>1</td>\n",
       "      <td>1</td>\n",
       "      <td>1</td>\n",
       "      <td>1</td>\n",
       "      <td>...</td>\n",
       "      <td>0</td>\n",
       "      <td>0</td>\n",
       "      <td>1</td>\n",
       "      <td>0</td>\n",
       "      <td>0</td>\n",
       "      <td>0</td>\n",
       "      <td>0</td>\n",
       "      <td>1</td>\n",
       "      <td>0</td>\n",
       "      <td>0</td>\n",
       "    </tr>\n",
       "    <tr>\n",
       "      <th>3</th>\n",
       "      <td>9739</td>\n",
       "      <td>1</td>\n",
       "      <td>1</td>\n",
       "      <td>1</td>\n",
       "      <td>1</td>\n",
       "      <td>0</td>\n",
       "      <td>1</td>\n",
       "      <td>1</td>\n",
       "      <td>1</td>\n",
       "      <td>1</td>\n",
       "      <td>...</td>\n",
       "      <td>0</td>\n",
       "      <td>1</td>\n",
       "      <td>0</td>\n",
       "      <td>0</td>\n",
       "      <td>0</td>\n",
       "      <td>1</td>\n",
       "      <td>1</td>\n",
       "      <td>1</td>\n",
       "      <td>1</td>\n",
       "      <td>1</td>\n",
       "    </tr>\n",
       "    <tr>\n",
       "      <th>4</th>\n",
       "      <td>9737</td>\n",
       "      <td>1</td>\n",
       "      <td>0</td>\n",
       "      <td>1</td>\n",
       "      <td>1</td>\n",
       "      <td>0</td>\n",
       "      <td>0</td>\n",
       "      <td>1</td>\n",
       "      <td>0</td>\n",
       "      <td>1</td>\n",
       "      <td>...</td>\n",
       "      <td>1</td>\n",
       "      <td>1</td>\n",
       "      <td>0</td>\n",
       "      <td>1</td>\n",
       "      <td>1</td>\n",
       "      <td>1</td>\n",
       "      <td>1</td>\n",
       "      <td>1</td>\n",
       "      <td>1</td>\n",
       "      <td>1</td>\n",
       "    </tr>\n",
       "  </tbody>\n",
       "</table>\n",
       "<p>5 rows × 30 columns</p>\n",
       "</div>"
      ],
      "text/plain": [
       "     0   1   2   3   4   5   6   7   8   9   ...  20  21  22  23  24  25  26  \\\n",
       "0  9789   0   1   0   0   0   1   0   1   1  ...   0   0   1   0   1   1   0   \n",
       "1  9790   0   1   0   0   0   1   0   1   1  ...   0   0   1   0   1   0   0   \n",
       "2  9738   1   1   0   0   0   1   1   1   1  ...   0   0   1   0   0   0   0   \n",
       "3  9739   1   1   1   1   0   1   1   1   1  ...   0   1   0   0   0   1   1   \n",
       "4  9737   1   0   1   1   0   0   1   0   1  ...   1   1   0   1   1   1   1   \n",
       "\n",
       "   27  28  29  \n",
       "0   0   0   0  \n",
       "1   0   0   0  \n",
       "2   1   0   0  \n",
       "3   1   1   1  \n",
       "4   1   1   1  \n",
       "\n",
       "[5 rows x 30 columns]"
      ]
     },
     "execution_count": 4,
     "metadata": {},
     "output_type": "execute_result"
    }
   ],
   "source": [
    "decisions_df.head()"
   ]
  },
  {
   "cell_type": "markdown",
   "id": "96442293-1b9d-4705-9f68-7ad72e7e9129",
   "metadata": {},
   "source": [
    "#### Above shows that the first column is actor IDs (as required by the format) whereas all other columns represent bills, with cells corresponding to the votes ('yay' = 1, 'nay' = 0) on those bills by the corresponding legislator. In this data, we have 29 sets of votes (decisions) for 433 legislators (actors). "
   ]
  },
  {
   "cell_type": "code",
   "execution_count": 5,
   "id": "837ce5c9-11d5-4286-b578-8547bee7debf",
   "metadata": {},
   "outputs": [
    {
     "name": "stdout",
     "output_type": "stream",
     "text": [
      "(433, 29)\n"
     ]
    }
   ],
   "source": [
    "actor_ids = list(decisions_df[0])\n",
    "actor_ids = list(map(lambda x:str(x), actor_ids))\n",
    "decision_vals = decisions_df.iloc[:,1:].values #get the matrix of actors X decisions\n",
    "print(decision_vals.shape)"
   ]
  },
  {
   "cell_type": "markdown",
   "id": "b0c7582c-a594-49cd-adb5-c75f53e09cc4",
   "metadata": {},
   "source": [
    "#### We load all features for the individual actors - consistent with the format, scalar features will be encapsulated by a CSV with just one column, whereas vector features will have more than 1 columns (this fact is used to load and store scalar and vector features separately)"
   ]
  },
  {
   "cell_type": "code",
   "execution_count": 6,
   "id": "1357af45-c622-4b2c-bfcf-b7cdc6da79f0",
   "metadata": {},
   "outputs": [
    {
     "name": "stdout",
     "output_type": "stream",
     "text": [
      "Loading various actor-level features...\n"
     ]
    }
   ],
   "source": [
    "print('Loading various actor-level features...')\n",
    "scalar_features_to_values, vector_features_to_values = load_feature_values_dicts(data_base_path)"
   ]
  },
  {
   "cell_type": "code",
   "execution_count": 7,
   "id": "b089d70a-0611-48e2-a6a2-ad3fa4d6f795",
   "metadata": {},
   "outputs": [
    {
     "name": "stdout",
     "output_type": "stream",
     "text": [
      "dict_keys(['State', 'Party'])\n"
     ]
    }
   ],
   "source": [
    "print(scalar_features_to_values.keys())"
   ]
  },
  {
   "cell_type": "code",
   "execution_count": 8,
   "id": "f3c7dce8-f6e5-47cd-ba65-9b4f2148abec",
   "metadata": {},
   "outputs": [
    {
     "name": "stdout",
     "output_type": "stream",
     "text": [
      "dict_keys(['Speech_TFIDF'])\n"
     ]
    }
   ],
   "source": [
    "print(vector_features_to_values.keys())"
   ]
  },
  {
   "cell_type": "markdown",
   "id": "b1d7e2ba-80d8-43a7-8beb-8c4b9cce3b9e",
   "metadata": {},
   "source": [
    "#### For our example data, the features for legislators include their *State*, their *Party*, and TF-IDF vector representations of their floor speeches in the 109th congressional session (*Speech_TFIDF*). Actors can be represented with all kinds of features - scalar features can be any data type, but the vector features must contain numerical values only (and generally, real-valued). "
   ]
  },
  {
   "cell_type": "markdown",
   "id": "db101a3b-afb1-4bfe-a693-3496efe08ff4",
   "metadata": {},
   "source": [
    "When computing similarity between two vectors such as cosine similarity, having a vector of all 0s can result in null values; we recommending a small epsilon value to each element of vector features (default behavior): "
   ]
  },
  {
   "cell_type": "code",
   "execution_count": 9,
   "id": "94c5ec66-b176-464d-85c9-777a387b6c3c",
   "metadata": {},
   "outputs": [],
   "source": [
    "add_epsilon = True "
   ]
  },
  {
   "cell_type": "markdown",
   "id": "9ba9dc8d-55b0-4e29-a660-59963157aea3",
   "metadata": {},
   "source": [
    "Currently, the only similarity metric supported for vectors is cosine similarity, implemented in utils.py (however, more similarity metrics can be added and used by the user with minor modification to the main code). "
   ]
  },
  {
   "cell_type": "code",
   "execution_count": 10,
   "id": "5dec994b-b033-4d21-a95b-225681cf10f8",
   "metadata": {},
   "outputs": [],
   "source": [
    "metric = 'Cosine'"
   ]
  },
  {
   "cell_type": "markdown",
   "id": "f0227dbf-5a90-4923-9b90-01f7775960e9",
   "metadata": {},
   "source": [
    "#### For scalar features, pairwise values are obtained using a simple identity function; for example, value of Same_State or Same_Party is 1 if the state/party values for a pair match (exact matching), and -1 if not; but for vector features, a similarity score between the vector representation of the two actors in a pair is computed and used as the pairwise feature value. "
   ]
  },
  {
   "cell_type": "code",
   "execution_count": 11,
   "id": "4053072e-452d-4d6b-a7b7-457628d64131",
   "metadata": {},
   "outputs": [
    {
     "name": "stdout",
     "output_type": "stream",
     "text": [
      "Computing pairwise-level data required for the codecision model...\n"
     ]
    }
   ],
   "source": [
    "#below can take some time, depending on the number of actors in the data...\n",
    "\n",
    "print('Computing pairwise-level data required for the codecision model...')\n",
    "pairwise_actor_ids, pairwise_codecision_agreement_rate, pairwise_scalar_feature_to_same_identity_vals, pairwise_vector_feature_to_similarity_vals, removed_pairs, indiv_actors1, indiv_actors2 = get_pairwise_data_elements(actor_ids, decision_vals, scalar_features_to_values, vector_features_to_values, metric, add_epsilon)\n",
    "\n",
    "#use above pairwise data to create a dataframe which can be stored.\n",
    "pairwise_df = get_pairwise_dataframe(pairwise_actor_ids, pairwise_codecision_agreement_rate, pairwise_scalar_feature_to_same_identity_vals, pairwise_vector_feature_to_similarity_vals, indiv_actors1, indiv_actors2, metric)"
   ]
  },
  {
   "cell_type": "code",
   "execution_count": 12,
   "id": "e178b6f3-9493-4882-9cc8-efc4a55eaba0",
   "metadata": {},
   "outputs": [],
   "source": [
    "output_path = 'data/example/output/' #stores all the output files created - pairwise data, removed actor pairs, and results\n"
   ]
  },
  {
   "cell_type": "markdown",
   "id": "cec823f2-a178-400f-bb84-8a866fc53305",
   "metadata": {},
   "source": [
    "#### Below, we store the pairs of legislators removed for having perfect agreement or disagreement (on their votes) following Ringe et al. (2013) [Ringe, Nils, Jennifer Nicoll Victor, and Justin H. Gross. \"Keeping your friends close and your enemies closer? Information networks in legislative politics.\" British Journal of Political Science 43, no. 3 (2013): 601-628.]"
   ]
  },
  {
   "cell_type": "code",
   "execution_count": 13,
   "id": "627754b2-10f0-4d5d-8349-a8b34d586591",
   "metadata": {},
   "outputs": [],
   "source": [
    "f = open(Path(output_path) / \"removed_pair_actor_ids.txt\", 'w')\n",
    "for pair in removed_pairs:\n",
    "    f.write(str(pair))\n",
    "    f.write('\\n')\n",
    "f.close()"
   ]
  },
  {
   "cell_type": "code",
   "execution_count": 14,
   "id": "46f37bc7-8181-48d2-9ac6-dfd979d3fdd5",
   "metadata": {},
   "outputs": [
    {
     "name": "stdout",
     "output_type": "stream",
     "text": [
      "Storing pairwise-level data required for the codecision modeling...\n",
      "Done.\n"
     ]
    }
   ],
   "source": [
    "print('Storing pairwise-level data required for the codecision modeling...')\n",
    "#store the pairwise data output - used as input to mixed effects modeling in R\n",
    "pairwise_df.to_csv(Path(output_path) / \"pairwise_data.csv\", index=False)\n",
    "print('Done.')"
   ]
  },
  {
   "cell_type": "markdown",
   "id": "3a46ec21-644f-4b6a-a24a-bef6867e2313",
   "metadata": {},
   "source": [
    "#### Pairwise data is now stored in provided output path. The next step is running the R code in order to fit the mixed effects generalized linear model: `Rscript mixed_effects_model.R data/example/decisions.csv data/example/output/pairwise_data.csv data/example/output/results.txt`"
   ]
  },
  {
   "cell_type": "markdown",
   "id": "f2d57e0a-3ece-4d5f-a864-d7167e4f5dd1",
   "metadata": {},
   "source": [
    "## To compare the features on how much they explain the co-vote agreement rate, we look at the _Fixed Effects_ in **results.txt**: \n",
    "\n",
    "```\n",
    "Fixed effects:\n",
    "\n",
    "                        Estimate Std. Error z value Pr(>|z|)    \n",
    "                        \n",
    "(Intercept)             0.302620   0.023180   13.05   <2e-16 ***\n",
    "\n",
    "Same_State              0.055361   0.003641   15.21   <2e-16 ***\n",
    "\n",
    "Same_Party              0.829807   0.001770  468.94   <2e-16 ***\n",
    "\n",
    "Speech_TFIDF_Cosine_Sim 1.045378   0.034412   30.38   <2e-16 ***\n",
    "```\n",
    "\n",
    "### Above shows that cosine similarity between speeches (represented as tf-idf vectors) has a higher estimate than same state or same party. "
   ]
  },
  {
   "cell_type": "code",
   "execution_count": null,
   "id": "d6989b93-e674-439f-97a4-e05c4e044b40",
   "metadata": {},
   "outputs": [],
   "source": []
  }
 ],
 "metadata": {
  "kernelspec": {
   "display_name": "Python [conda env:pg3] *",
   "language": "python",
   "name": "conda-env-pg3-py"
  },
  "language_info": {
   "codemirror_mode": {
    "name": "ipython",
    "version": 3
   },
   "file_extension": ".py",
   "mimetype": "text/x-python",
   "name": "python",
   "nbconvert_exporter": "python",
   "pygments_lexer": "ipython3",
   "version": "3.7.16"
  }
 },
 "nbformat": 4,
 "nbformat_minor": 5
}
